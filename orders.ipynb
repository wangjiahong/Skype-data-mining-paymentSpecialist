{
 "cells": [
  {
   "cell_type": "markdown",
   "metadata": {},
   "source": [
    "# Time series  analysis about skypee data"
   ]
  },
  {
   "cell_type": "code",
   "execution_count": 1,
   "metadata": {
    "collapsed": true
   },
   "outputs": [],
   "source": [
    "%matplotlib inline \n",
    "import numpy as np\n",
    "import pandas as pd\n",
    "import scipy.stats as stats\n",
    "import matplotlib.pyplot as plt\n",
    "import sklearn\n",
    "import statsmodels.api as sm\n",
    "# special matplotlib argument for improved plots\n",
    "from matplotlib import rcParams"
   ]
  },
  {
   "cell_type": "markdown",
   "metadata": {},
   "source": [
    "## read orders"
   ]
  },
  {
   "cell_type": "code",
   "execution_count": 2,
   "metadata": {
    "collapsed": false
   },
   "outputs": [],
   "source": [
    "df =pd.ExcelFile('C:/Users/AlexMerhoom/Desktop/orders.xlsx')\n",
    "orders  = df.parse(0)"
   ]
  },
  {
   "cell_type": "code",
   "execution_count": 3,
   "metadata": {
    "collapsed": false
   },
   "outputs": [
    {
     "data": {
      "text/html": [
       "<div>\n",
       "<table border=\"1\" class=\"dataframe\">\n",
       "  <thead>\n",
       "    <tr style=\"text-align: right;\">\n",
       "      <th></th>\n",
       "      <th>id_order</th>\n",
       "      <th>creation_date</th>\n",
       "      <th>method</th>\n",
       "      <th>key_status</th>\n",
       "      <th>sent_price</th>\n",
       "      <th>sent_vat</th>\n",
       "      <th>sent_ccy</th>\n",
       "    </tr>\n",
       "  </thead>\n",
       "  <tbody>\n",
       "    <tr>\n",
       "      <th>0</th>\n",
       "      <td>00029e4f4cd704f71a9e0046a932dcdf</td>\n",
       "      <td>2013-04-03 14:12:25.013448+00</td>\n",
       "      <td>VISA</td>\n",
       "      <td>5</td>\n",
       "      <td>10</td>\n",
       "      <td>1.5</td>\n",
       "      <td>EUR</td>\n",
       "    </tr>\n",
       "  </tbody>\n",
       "</table>\n",
       "</div>"
      ],
      "text/plain": [
       "                           id_order                  creation_date method  \\\n",
       "0  00029e4f4cd704f71a9e0046a932dcdf  2013-04-03 14:12:25.013448+00   VISA   \n",
       "\n",
       "   key_status  sent_price  sent_vat sent_ccy  \n",
       "0           5          10       1.5      EUR  "
      ]
     },
     "execution_count": 3,
     "metadata": {},
     "output_type": "execute_result"
    }
   ],
   "source": [
    "orders.head(1)"
   ]
  },
  {
   "cell_type": "code",
   "execution_count": 4,
   "metadata": {
    "collapsed": false
   },
   "outputs": [
    {
     "name": "stdout",
     "output_type": "stream",
     "text": [
      "<class 'pandas.core.frame.DataFrame'>\n",
      "Int64Index: 1048575 entries, 0 to 1048574\n",
      "Data columns (total 7 columns):\n",
      "id_order         1048575 non-null object\n",
      "creation_date    1048575 non-null object\n",
      "method           1048553 non-null object\n",
      "key_status       1048575 non-null int64\n",
      "sent_price       1048568 non-null float64\n",
      "sent_vat         1048568 non-null float64\n",
      "sent_ccy         1048575 non-null object\n",
      "dtypes: float64(2), int64(1), object(4)\n",
      "memory usage: 64.0+ MB\n"
     ]
    }
   ],
   "source": [
    "orders.info()"
   ]
  },
  {
   "cell_type": "markdown",
   "metadata": {},
   "source": [
    "# check if there is any duplicated ID who made several payments"
   ]
  },
  {
   "cell_type": "code",
   "execution_count": 32,
   "metadata": {
    "collapsed": true
   },
   "outputs": [],
   "source": [
    "order_id = orders.id_order"
   ]
  },
  {
   "cell_type": "code",
   "execution_count": 33,
   "metadata": {
    "collapsed": false
   },
   "outputs": [
    {
     "data": {
      "text/plain": [
       "0    00029e4f4cd704f71a9e0046a932dcdf\n",
       "Name: id_order, dtype: object"
      ]
     },
     "execution_count": 33,
     "metadata": {},
     "output_type": "execute_result"
    }
   ],
   "source": [
    "order_id.head(1)"
   ]
  },
  {
   "cell_type": "code",
   "execution_count": 34,
   "metadata": {
    "collapsed": false
   },
   "outputs": [
    {
     "data": {
      "text/plain": [
       "2484     007fe80fc80dbf925addfa4e42c1b916\n",
       "4102     010fb2b121334605b93d8b784dbe5756\n",
       "4103     010fb2b121334605b93d8b784dbe5756\n",
       "4174     0112d174bd3393e6bdd0173bfab5fed8\n",
       "4207     0106ba20c97ac9e4d1935b900f0e0529\n",
       "4208     0106ba20c97ac9e4d1935b900f0e0529\n",
       "4209     0106ba20c97ac9e4d1935b900f0e0529\n",
       "4210     0106ba20c97ac9e4d1935b900f0e0529\n",
       "7043     01bab00247090e7c1edfc067fc021dd0\n",
       "14063    03589079153fd6c7497a5ac6d55adc0b\n",
       "14064    03589079153fd6c7497a5ac6d55adc0b\n",
       "14065    03589079153fd6c7497a5ac6d55adc0b\n",
       "20511    04d0d8a08ba5f29bf1e27a6575e205e3\n",
       "28968    06c910a43fb880682c294301b65fbaac\n",
       "38216    08f34869508c4994484e025b020b44a9\n",
       "41941    0a25c242eb13878b5cf051596c8cce61\n",
       "44014    0a50bd64992821d4b0093c1b7a0e9e50\n",
       "Name: id_order, dtype: object"
      ]
     },
     "execution_count": 34,
     "metadata": {},
     "output_type": "execute_result"
    }
   ],
   "source": [
    "order_id[order_id.duplicated()]"
   ]
  },
  {
   "cell_type": "markdown",
   "metadata": {},
   "source": [
    "# drop ID column"
   ]
  },
  {
   "cell_type": "code",
   "execution_count": 35,
   "metadata": {
    "collapsed": true
   },
   "outputs": [],
   "source": [
    "orders.drop(orders.columns[[0]], axis=1, inplace=True)"
   ]
  },
  {
   "cell_type": "code",
   "execution_count": 36,
   "metadata": {
    "collapsed": false
   },
   "outputs": [
    {
     "data": {
      "text/html": [
       "<div>\n",
       "<table border=\"1\" class=\"dataframe\">\n",
       "  <thead>\n",
       "    <tr style=\"text-align: right;\">\n",
       "      <th></th>\n",
       "      <th>creation_date</th>\n",
       "      <th>method</th>\n",
       "      <th>key_status</th>\n",
       "      <th>sent_price</th>\n",
       "      <th>sent_vat</th>\n",
       "      <th>sent_ccy</th>\n",
       "    </tr>\n",
       "  </thead>\n",
       "  <tbody>\n",
       "    <tr>\n",
       "      <th>0</th>\n",
       "      <td>2013-04-03 14:12:25.013448+00</td>\n",
       "      <td>VISA</td>\n",
       "      <td>5</td>\n",
       "      <td>10</td>\n",
       "      <td>1.5</td>\n",
       "      <td>EUR</td>\n",
       "    </tr>\n",
       "  </tbody>\n",
       "</table>\n",
       "</div>"
      ],
      "text/plain": [
       "                   creation_date method  key_status  sent_price  sent_vat  \\\n",
       "0  2013-04-03 14:12:25.013448+00   VISA           5          10       1.5   \n",
       "\n",
       "  sent_ccy  \n",
       "0      EUR  "
      ]
     },
     "execution_count": 36,
     "metadata": {},
     "output_type": "execute_result"
    }
   ],
   "source": [
    "orders.head(1)"
   ]
  },
  {
   "cell_type": "markdown",
   "metadata": {},
   "source": [
    "## Read status code and status"
   ]
  },
  {
   "cell_type": "code",
   "execution_count": 5,
   "metadata": {
    "collapsed": true
   },
   "outputs": [],
   "source": [
    "status_code = pd.read_csv(\"C:/Users/AlexMerhoom/Desktop/order_statuses.csv\")"
   ]
  },
  {
   "cell_type": "code",
   "execution_count": 6,
   "metadata": {
    "collapsed": false
   },
   "outputs": [
    {
     "data": {
      "text/html": [
       "<div>\n",
       "<table border=\"1\" class=\"dataframe\">\n",
       "  <thead>\n",
       "    <tr style=\"text-align: right;\">\n",
       "      <th></th>\n",
       "      <th>id_status</th>\n",
       "      <th>status</th>\n",
       "    </tr>\n",
       "  </thead>\n",
       "  <tbody>\n",
       "    <tr>\n",
       "      <th>0</th>\n",
       "      <td>0</td>\n",
       "      <td>INITIATED</td>\n",
       "    </tr>\n",
       "    <tr>\n",
       "      <th>1</th>\n",
       "      <td>1</td>\n",
       "      <td>CREATED</td>\n",
       "    </tr>\n",
       "    <tr>\n",
       "      <th>2</th>\n",
       "      <td>2</td>\n",
       "      <td>SENT_TO_PSP</td>\n",
       "    </tr>\n",
       "    <tr>\n",
       "      <th>3</th>\n",
       "      <td>3</td>\n",
       "      <td>PAYMENT_PENDING</td>\n",
       "    </tr>\n",
       "    <tr>\n",
       "      <th>4</th>\n",
       "      <td>4</td>\n",
       "      <td>PAYMENT_CONFIRMED</td>\n",
       "    </tr>\n",
       "  </tbody>\n",
       "</table>\n",
       "</div>"
      ],
      "text/plain": [
       "   id_status             status\n",
       "0          0          INITIATED\n",
       "1          1            CREATED\n",
       "2          2        SENT_TO_PSP\n",
       "3          3    PAYMENT_PENDING\n",
       "4          4  PAYMENT_CONFIRMED"
      ]
     },
     "execution_count": 6,
     "metadata": {},
     "output_type": "execute_result"
    }
   ],
   "source": [
    "status_code.head()"
   ]
  },
  {
   "cell_type": "markdown",
   "metadata": {},
   "source": [
    "### Change column name in status table"
   ]
  },
  {
   "cell_type": "code",
   "execution_count": 7,
   "metadata": {
    "collapsed": false
   },
   "outputs": [],
   "source": [
    "status_code.rename(columns={'id_status':'key_status'}, inplace=True)"
   ]
  },
  {
   "cell_type": "code",
   "execution_count": 8,
   "metadata": {
    "collapsed": false
   },
   "outputs": [
    {
     "data": {
      "text/html": [
       "<div>\n",
       "<table border=\"1\" class=\"dataframe\">\n",
       "  <thead>\n",
       "    <tr style=\"text-align: right;\">\n",
       "      <th></th>\n",
       "      <th>key_status</th>\n",
       "      <th>status</th>\n",
       "    </tr>\n",
       "  </thead>\n",
       "  <tbody>\n",
       "    <tr>\n",
       "      <th>0</th>\n",
       "      <td>0</td>\n",
       "      <td>INITIATED</td>\n",
       "    </tr>\n",
       "    <tr>\n",
       "      <th>1</th>\n",
       "      <td>1</td>\n",
       "      <td>CREATED</td>\n",
       "    </tr>\n",
       "    <tr>\n",
       "      <th>2</th>\n",
       "      <td>2</td>\n",
       "      <td>SENT_TO_PSP</td>\n",
       "    </tr>\n",
       "    <tr>\n",
       "      <th>3</th>\n",
       "      <td>3</td>\n",
       "      <td>PAYMENT_PENDING</td>\n",
       "    </tr>\n",
       "    <tr>\n",
       "      <th>4</th>\n",
       "      <td>4</td>\n",
       "      <td>PAYMENT_CONFIRMED</td>\n",
       "    </tr>\n",
       "  </tbody>\n",
       "</table>\n",
       "</div>"
      ],
      "text/plain": [
       "   key_status             status\n",
       "0           0          INITIATED\n",
       "1           1            CREATED\n",
       "2           2        SENT_TO_PSP\n",
       "3           3    PAYMENT_PENDING\n",
       "4           4  PAYMENT_CONFIRMED"
      ]
     },
     "execution_count": 8,
     "metadata": {},
     "output_type": "execute_result"
    }
   ],
   "source": [
    "status_code.head()"
   ]
  },
  {
   "cell_type": "markdown",
   "metadata": {},
   "source": [
    "# Read Exchange ratio"
   ]
  },
  {
   "cell_type": "code",
   "execution_count": 9,
   "metadata": {
    "collapsed": true
   },
   "outputs": [],
   "source": [
    "ratio = pd.read_csv(\"C:/Users/AlexMerhoom/Desktop/exchange_rate.csv\")"
   ]
  },
  {
   "cell_type": "code",
   "execution_count": 10,
   "metadata": {
    "collapsed": false
   },
   "outputs": [
    {
     "data": {
      "text/html": [
       "<div>\n",
       "<table border=\"1\" class=\"dataframe\">\n",
       "  <thead>\n",
       "    <tr style=\"text-align: right;\">\n",
       "      <th></th>\n",
       "      <th>EXCHANGE_RATE</th>\n",
       "      <th>RATIO</th>\n",
       "    </tr>\n",
       "  </thead>\n",
       "  <tbody>\n",
       "    <tr>\n",
       "      <th>0</th>\n",
       "      <td>USD</td>\n",
       "      <td>1.000000</td>\n",
       "    </tr>\n",
       "    <tr>\n",
       "      <th>1</th>\n",
       "      <td>EUR</td>\n",
       "      <td>0.779879</td>\n",
       "    </tr>\n",
       "    <tr>\n",
       "      <th>2</th>\n",
       "      <td>KRW</td>\n",
       "      <td>1111.900000</td>\n",
       "    </tr>\n",
       "    <tr>\n",
       "      <th>3</th>\n",
       "      <td>HKD</td>\n",
       "      <td>7.763350</td>\n",
       "    </tr>\n",
       "    <tr>\n",
       "      <th>4</th>\n",
       "      <td>PLN</td>\n",
       "      <td>3.258850</td>\n",
       "    </tr>\n",
       "    <tr>\n",
       "      <th>5</th>\n",
       "      <td>TWD</td>\n",
       "      <td>29.860000</td>\n",
       "    </tr>\n",
       "    <tr>\n",
       "      <th>6</th>\n",
       "      <td>DKK</td>\n",
       "      <td>5.814400</td>\n",
       "    </tr>\n",
       "    <tr>\n",
       "      <th>7</th>\n",
       "      <td>CHF</td>\n",
       "      <td>0.948950</td>\n",
       "    </tr>\n",
       "    <tr>\n",
       "      <th>8</th>\n",
       "      <td>NOK</td>\n",
       "      <td>5.845600</td>\n",
       "    </tr>\n",
       "    <tr>\n",
       "      <th>9</th>\n",
       "      <td>SEK</td>\n",
       "      <td>6.524150</td>\n",
       "    </tr>\n",
       "    <tr>\n",
       "      <th>10</th>\n",
       "      <td>JPY</td>\n",
       "      <td>94.215000</td>\n",
       "    </tr>\n",
       "    <tr>\n",
       "      <th>11</th>\n",
       "      <td>AUD</td>\n",
       "      <td>0.960154</td>\n",
       "    </tr>\n",
       "    <tr>\n",
       "      <th>12</th>\n",
       "      <td>CAD</td>\n",
       "      <td>1.017400</td>\n",
       "    </tr>\n",
       "    <tr>\n",
       "      <th>13</th>\n",
       "      <td>BRL</td>\n",
       "      <td>2.022150</td>\n",
       "    </tr>\n",
       "    <tr>\n",
       "      <th>14</th>\n",
       "      <td>GBP</td>\n",
       "      <td>0.657657</td>\n",
       "    </tr>\n",
       "  </tbody>\n",
       "</table>\n",
       "</div>"
      ],
      "text/plain": [
       "   EXCHANGE_RATE        RATIO\n",
       "0            USD     1.000000\n",
       "1            EUR     0.779879\n",
       "2            KRW  1111.900000\n",
       "3            HKD     7.763350\n",
       "4            PLN     3.258850\n",
       "5            TWD    29.860000\n",
       "6            DKK     5.814400\n",
       "7            CHF     0.948950\n",
       "8            NOK     5.845600\n",
       "9            SEK     6.524150\n",
       "10           JPY    94.215000\n",
       "11           AUD     0.960154\n",
       "12           CAD     1.017400\n",
       "13           BRL     2.022150\n",
       "14           GBP     0.657657"
      ]
     },
     "execution_count": 10,
     "metadata": {},
     "output_type": "execute_result"
    }
   ],
   "source": [
    "ratio"
   ]
  },
  {
   "cell_type": "code",
   "execution_count": 12,
   "metadata": {
    "collapsed": true
   },
   "outputs": [],
   "source": [
    "ratio.rename(columns={'EXCHANGE_RATE':'sent_ccy'}, inplace=True)"
   ]
  },
  {
   "cell_type": "code",
   "execution_count": null,
   "metadata": {
    "collapsed": true
   },
   "outputs": [],
   "source": []
  },
  {
   "cell_type": "markdown",
   "metadata": {},
   "source": [
    "# Merge status into orders."
   ]
  },
  {
   "cell_type": "code",
   "execution_count": 38,
   "metadata": {
    "collapsed": false
   },
   "outputs": [],
   "source": [
    "orders2 = orders.merge(status_code, on='key_status', how='left')"
   ]
  },
  {
   "cell_type": "code",
   "execution_count": 40,
   "metadata": {
    "collapsed": false
   },
   "outputs": [
    {
     "data": {
      "text/html": [
       "<div>\n",
       "<table border=\"1\" class=\"dataframe\">\n",
       "  <thead>\n",
       "    <tr style=\"text-align: right;\">\n",
       "      <th></th>\n",
       "      <th>creation_date</th>\n",
       "      <th>method</th>\n",
       "      <th>key_status</th>\n",
       "      <th>sent_price</th>\n",
       "      <th>sent_vat</th>\n",
       "      <th>sent_ccy</th>\n",
       "      <th>status</th>\n",
       "    </tr>\n",
       "  </thead>\n",
       "  <tbody>\n",
       "    <tr>\n",
       "      <th>0</th>\n",
       "      <td>2013-04-03 14:12:25.013448+00</td>\n",
       "      <td>VISA</td>\n",
       "      <td>5</td>\n",
       "      <td>10.00</td>\n",
       "      <td>1.5000</td>\n",
       "      <td>EUR</td>\n",
       "      <td>DELIVERED</td>\n",
       "    </tr>\n",
       "    <tr>\n",
       "      <th>1</th>\n",
       "      <td>2013-03-30 19:58:50.219921+00</td>\n",
       "      <td>VISA</td>\n",
       "      <td>2</td>\n",
       "      <td>10.00</td>\n",
       "      <td>0.0000</td>\n",
       "      <td>USD</td>\n",
       "      <td>SENT_TO_PSP</td>\n",
       "    </tr>\n",
       "    <tr>\n",
       "      <th>2</th>\n",
       "      <td>2013-03-25 15:44:08.454227+00</td>\n",
       "      <td>VISA</td>\n",
       "      <td>5</td>\n",
       "      <td>10.00</td>\n",
       "      <td>1.5000</td>\n",
       "      <td>GBP</td>\n",
       "      <td>DELIVERED</td>\n",
       "    </tr>\n",
       "    <tr>\n",
       "      <th>3</th>\n",
       "      <td>2013-03-25 13:57:38.56648+00</td>\n",
       "      <td>VISA</td>\n",
       "      <td>5</td>\n",
       "      <td>84.95</td>\n",
       "      <td>12.7425</td>\n",
       "      <td>SEK</td>\n",
       "      <td>DELIVERED</td>\n",
       "    </tr>\n",
       "    <tr>\n",
       "      <th>4</th>\n",
       "      <td>2013-03-31 08:58:33.625369+00</td>\n",
       "      <td>ECMC</td>\n",
       "      <td>5</td>\n",
       "      <td>10.00</td>\n",
       "      <td>0.0000</td>\n",
       "      <td>EUR</td>\n",
       "      <td>DELIVERED</td>\n",
       "    </tr>\n",
       "  </tbody>\n",
       "</table>\n",
       "</div>"
      ],
      "text/plain": [
       "                   creation_date method  key_status  sent_price  sent_vat  \\\n",
       "0  2013-04-03 14:12:25.013448+00   VISA           5       10.00    1.5000   \n",
       "1  2013-03-30 19:58:50.219921+00   VISA           2       10.00    0.0000   \n",
       "2  2013-03-25 15:44:08.454227+00   VISA           5       10.00    1.5000   \n",
       "3   2013-03-25 13:57:38.56648+00   VISA           5       84.95   12.7425   \n",
       "4  2013-03-31 08:58:33.625369+00   ECMC           5       10.00    0.0000   \n",
       "\n",
       "  sent_ccy       status  \n",
       "0      EUR    DELIVERED  \n",
       "1      USD  SENT_TO_PSP  \n",
       "2      GBP    DELIVERED  \n",
       "3      SEK    DELIVERED  \n",
       "4      EUR    DELIVERED  "
      ]
     },
     "execution_count": 40,
     "metadata": {},
     "output_type": "execute_result"
    }
   ],
   "source": [
    "orders2.head()"
   ]
  },
  {
   "cell_type": "markdown",
   "metadata": {},
   "source": [
    "# Merge ratio into orders"
   ]
  },
  {
   "cell_type": "code",
   "execution_count": 41,
   "metadata": {
    "collapsed": true
   },
   "outputs": [],
   "source": [
    "orders3 = orders2.merge(ratio, on='sent_ccy', how='left')"
   ]
  },
  {
   "cell_type": "code",
   "execution_count": 42,
   "metadata": {
    "collapsed": false
   },
   "outputs": [
    {
     "data": {
      "text/html": [
       "<div>\n",
       "<table border=\"1\" class=\"dataframe\">\n",
       "  <thead>\n",
       "    <tr style=\"text-align: right;\">\n",
       "      <th></th>\n",
       "      <th>creation_date</th>\n",
       "      <th>method</th>\n",
       "      <th>key_status</th>\n",
       "      <th>sent_price</th>\n",
       "      <th>sent_vat</th>\n",
       "      <th>sent_ccy</th>\n",
       "      <th>status</th>\n",
       "      <th>RATIO</th>\n",
       "    </tr>\n",
       "  </thead>\n",
       "  <tbody>\n",
       "    <tr>\n",
       "      <th>0</th>\n",
       "      <td>2013-04-03 14:12:25.013448+00</td>\n",
       "      <td>VISA</td>\n",
       "      <td>5</td>\n",
       "      <td>10.00</td>\n",
       "      <td>1.5000</td>\n",
       "      <td>EUR</td>\n",
       "      <td>DELIVERED</td>\n",
       "      <td>0.779879</td>\n",
       "    </tr>\n",
       "    <tr>\n",
       "      <th>1</th>\n",
       "      <td>2013-03-30 19:58:50.219921+00</td>\n",
       "      <td>VISA</td>\n",
       "      <td>2</td>\n",
       "      <td>10.00</td>\n",
       "      <td>0.0000</td>\n",
       "      <td>USD</td>\n",
       "      <td>SENT_TO_PSP</td>\n",
       "      <td>1.000000</td>\n",
       "    </tr>\n",
       "    <tr>\n",
       "      <th>2</th>\n",
       "      <td>2013-03-25 15:44:08.454227+00</td>\n",
       "      <td>VISA</td>\n",
       "      <td>5</td>\n",
       "      <td>10.00</td>\n",
       "      <td>1.5000</td>\n",
       "      <td>GBP</td>\n",
       "      <td>DELIVERED</td>\n",
       "      <td>0.657657</td>\n",
       "    </tr>\n",
       "    <tr>\n",
       "      <th>3</th>\n",
       "      <td>2013-03-25 13:57:38.56648+00</td>\n",
       "      <td>VISA</td>\n",
       "      <td>5</td>\n",
       "      <td>84.95</td>\n",
       "      <td>12.7425</td>\n",
       "      <td>SEK</td>\n",
       "      <td>DELIVERED</td>\n",
       "      <td>6.524150</td>\n",
       "    </tr>\n",
       "    <tr>\n",
       "      <th>4</th>\n",
       "      <td>2013-03-31 08:58:33.625369+00</td>\n",
       "      <td>ECMC</td>\n",
       "      <td>5</td>\n",
       "      <td>10.00</td>\n",
       "      <td>0.0000</td>\n",
       "      <td>EUR</td>\n",
       "      <td>DELIVERED</td>\n",
       "      <td>0.779879</td>\n",
       "    </tr>\n",
       "  </tbody>\n",
       "</table>\n",
       "</div>"
      ],
      "text/plain": [
       "                   creation_date method  key_status  sent_price  sent_vat  \\\n",
       "0  2013-04-03 14:12:25.013448+00   VISA           5       10.00    1.5000   \n",
       "1  2013-03-30 19:58:50.219921+00   VISA           2       10.00    0.0000   \n",
       "2  2013-03-25 15:44:08.454227+00   VISA           5       10.00    1.5000   \n",
       "3   2013-03-25 13:57:38.56648+00   VISA           5       84.95   12.7425   \n",
       "4  2013-03-31 08:58:33.625369+00   ECMC           5       10.00    0.0000   \n",
       "\n",
       "  sent_ccy       status     RATIO  \n",
       "0      EUR    DELIVERED  0.779879  \n",
       "1      USD  SENT_TO_PSP  1.000000  \n",
       "2      GBP    DELIVERED  0.657657  \n",
       "3      SEK    DELIVERED  6.524150  \n",
       "4      EUR    DELIVERED  0.779879  "
      ]
     },
     "execution_count": 42,
     "metadata": {},
     "output_type": "execute_result"
    }
   ],
   "source": [
    "orders3.head()"
   ]
  },
  {
   "cell_type": "code",
   "execution_count": 43,
   "metadata": {
    "collapsed": true
   },
   "outputs": [],
   "source": [
    "orders4 = orders3"
   ]
  },
  {
   "cell_type": "code",
   "execution_count": 44,
   "metadata": {
    "collapsed": false
   },
   "outputs": [
    {
     "data": {
      "text/html": [
       "<div>\n",
       "<table border=\"1\" class=\"dataframe\">\n",
       "  <thead>\n",
       "    <tr style=\"text-align: right;\">\n",
       "      <th></th>\n",
       "      <th>creation_date</th>\n",
       "      <th>method</th>\n",
       "      <th>key_status</th>\n",
       "      <th>sent_price</th>\n",
       "      <th>sent_vat</th>\n",
       "      <th>sent_ccy</th>\n",
       "      <th>status</th>\n",
       "      <th>RATIO</th>\n",
       "    </tr>\n",
       "  </thead>\n",
       "  <tbody>\n",
       "    <tr>\n",
       "      <th>0</th>\n",
       "      <td>2013-04-03 14:12:25.013448+00</td>\n",
       "      <td>VISA</td>\n",
       "      <td>5</td>\n",
       "      <td>10.00</td>\n",
       "      <td>1.5000</td>\n",
       "      <td>EUR</td>\n",
       "      <td>DELIVERED</td>\n",
       "      <td>0.779879</td>\n",
       "    </tr>\n",
       "    <tr>\n",
       "      <th>1</th>\n",
       "      <td>2013-03-30 19:58:50.219921+00</td>\n",
       "      <td>VISA</td>\n",
       "      <td>2</td>\n",
       "      <td>10.00</td>\n",
       "      <td>0.0000</td>\n",
       "      <td>USD</td>\n",
       "      <td>SENT_TO_PSP</td>\n",
       "      <td>1.000000</td>\n",
       "    </tr>\n",
       "    <tr>\n",
       "      <th>2</th>\n",
       "      <td>2013-03-25 15:44:08.454227+00</td>\n",
       "      <td>VISA</td>\n",
       "      <td>5</td>\n",
       "      <td>10.00</td>\n",
       "      <td>1.5000</td>\n",
       "      <td>GBP</td>\n",
       "      <td>DELIVERED</td>\n",
       "      <td>0.657657</td>\n",
       "    </tr>\n",
       "    <tr>\n",
       "      <th>3</th>\n",
       "      <td>2013-03-25 13:57:38.56648+00</td>\n",
       "      <td>VISA</td>\n",
       "      <td>5</td>\n",
       "      <td>84.95</td>\n",
       "      <td>12.7425</td>\n",
       "      <td>SEK</td>\n",
       "      <td>DELIVERED</td>\n",
       "      <td>6.524150</td>\n",
       "    </tr>\n",
       "    <tr>\n",
       "      <th>4</th>\n",
       "      <td>2013-03-31 08:58:33.625369+00</td>\n",
       "      <td>ECMC</td>\n",
       "      <td>5</td>\n",
       "      <td>10.00</td>\n",
       "      <td>0.0000</td>\n",
       "      <td>EUR</td>\n",
       "      <td>DELIVERED</td>\n",
       "      <td>0.779879</td>\n",
       "    </tr>\n",
       "  </tbody>\n",
       "</table>\n",
       "</div>"
      ],
      "text/plain": [
       "                   creation_date method  key_status  sent_price  sent_vat  \\\n",
       "0  2013-04-03 14:12:25.013448+00   VISA           5       10.00    1.5000   \n",
       "1  2013-03-30 19:58:50.219921+00   VISA           2       10.00    0.0000   \n",
       "2  2013-03-25 15:44:08.454227+00   VISA           5       10.00    1.5000   \n",
       "3   2013-03-25 13:57:38.56648+00   VISA           5       84.95   12.7425   \n",
       "4  2013-03-31 08:58:33.625369+00   ECMC           5       10.00    0.0000   \n",
       "\n",
       "  sent_ccy       status     RATIO  \n",
       "0      EUR    DELIVERED  0.779879  \n",
       "1      USD  SENT_TO_PSP  1.000000  \n",
       "2      GBP    DELIVERED  0.657657  \n",
       "3      SEK    DELIVERED  6.524150  \n",
       "4      EUR    DELIVERED  0.779879  "
      ]
     },
     "execution_count": 44,
     "metadata": {},
     "output_type": "execute_result"
    }
   ],
   "source": [
    "orders3.head()"
   ]
  },
  {
   "cell_type": "markdown",
   "metadata": {},
   "source": [
    "## convert price amount into USD currency "
   ]
  },
  {
   "cell_type": "code",
   "execution_count": 45,
   "metadata": {
    "collapsed": true
   },
   "outputs": [],
   "source": [
    "orders4.sent_price = orders4.sent_price * orders4.RATIO"
   ]
  },
  {
   "cell_type": "code",
   "execution_count": 46,
   "metadata": {
    "collapsed": true
   },
   "outputs": [],
   "source": [
    "orders4.sent_vat = orders4.sent_vat * orders4.RATIO"
   ]
  },
  {
   "cell_type": "code",
   "execution_count": 47,
   "metadata": {
    "collapsed": false
   },
   "outputs": [
    {
     "data": {
      "text/html": [
       "<div>\n",
       "<table border=\"1\" class=\"dataframe\">\n",
       "  <thead>\n",
       "    <tr style=\"text-align: right;\">\n",
       "      <th></th>\n",
       "      <th>creation_date</th>\n",
       "      <th>method</th>\n",
       "      <th>key_status</th>\n",
       "      <th>sent_price</th>\n",
       "      <th>sent_vat</th>\n",
       "      <th>sent_ccy</th>\n",
       "      <th>status</th>\n",
       "      <th>RATIO</th>\n",
       "    </tr>\n",
       "  </thead>\n",
       "  <tbody>\n",
       "    <tr>\n",
       "      <th>0</th>\n",
       "      <td>2013-04-03 14:12:25.013448+00</td>\n",
       "      <td>VISA</td>\n",
       "      <td>5</td>\n",
       "      <td>7.798791</td>\n",
       "      <td>1.169819</td>\n",
       "      <td>EUR</td>\n",
       "      <td>DELIVERED</td>\n",
       "      <td>0.779879</td>\n",
       "    </tr>\n",
       "    <tr>\n",
       "      <th>1</th>\n",
       "      <td>2013-03-30 19:58:50.219921+00</td>\n",
       "      <td>VISA</td>\n",
       "      <td>2</td>\n",
       "      <td>10.000000</td>\n",
       "      <td>0.000000</td>\n",
       "      <td>USD</td>\n",
       "      <td>SENT_TO_PSP</td>\n",
       "      <td>1.000000</td>\n",
       "    </tr>\n",
       "    <tr>\n",
       "      <th>2</th>\n",
       "      <td>2013-03-25 15:44:08.454227+00</td>\n",
       "      <td>VISA</td>\n",
       "      <td>5</td>\n",
       "      <td>6.576568</td>\n",
       "      <td>0.986485</td>\n",
       "      <td>GBP</td>\n",
       "      <td>DELIVERED</td>\n",
       "      <td>0.657657</td>\n",
       "    </tr>\n",
       "    <tr>\n",
       "      <th>3</th>\n",
       "      <td>2013-03-25 13:57:38.56648+00</td>\n",
       "      <td>VISA</td>\n",
       "      <td>5</td>\n",
       "      <td>554.226542</td>\n",
       "      <td>83.133981</td>\n",
       "      <td>SEK</td>\n",
       "      <td>DELIVERED</td>\n",
       "      <td>6.524150</td>\n",
       "    </tr>\n",
       "    <tr>\n",
       "      <th>4</th>\n",
       "      <td>2013-03-31 08:58:33.625369+00</td>\n",
       "      <td>ECMC</td>\n",
       "      <td>5</td>\n",
       "      <td>7.798791</td>\n",
       "      <td>0.000000</td>\n",
       "      <td>EUR</td>\n",
       "      <td>DELIVERED</td>\n",
       "      <td>0.779879</td>\n",
       "    </tr>\n",
       "  </tbody>\n",
       "</table>\n",
       "</div>"
      ],
      "text/plain": [
       "                   creation_date method  key_status  sent_price   sent_vat  \\\n",
       "0  2013-04-03 14:12:25.013448+00   VISA           5    7.798791   1.169819   \n",
       "1  2013-03-30 19:58:50.219921+00   VISA           2   10.000000   0.000000   \n",
       "2  2013-03-25 15:44:08.454227+00   VISA           5    6.576568   0.986485   \n",
       "3   2013-03-25 13:57:38.56648+00   VISA           5  554.226542  83.133981   \n",
       "4  2013-03-31 08:58:33.625369+00   ECMC           5    7.798791   0.000000   \n",
       "\n",
       "  sent_ccy       status     RATIO  \n",
       "0      EUR    DELIVERED  0.779879  \n",
       "1      USD  SENT_TO_PSP  1.000000  \n",
       "2      GBP    DELIVERED  0.657657  \n",
       "3      SEK    DELIVERED  6.524150  \n",
       "4      EUR    DELIVERED  0.779879  "
      ]
     },
     "execution_count": 47,
     "metadata": {},
     "output_type": "execute_result"
    }
   ],
   "source": [
    "orders4.head()"
   ]
  },
  {
   "cell_type": "code",
   "execution_count": 48,
   "metadata": {
    "collapsed": false
   },
   "outputs": [
    {
     "name": "stdout",
     "output_type": "stream",
     "text": [
      "<class 'pandas.core.frame.DataFrame'>\n",
      "Int64Index: 1048575 entries, 0 to 1048574\n",
      "Data columns (total 8 columns):\n",
      "creation_date    1048575 non-null object\n",
      "method           1048553 non-null object\n",
      "key_status       1048575 non-null int64\n",
      "sent_price       1048568 non-null float64\n",
      "sent_vat         1048568 non-null float64\n",
      "sent_ccy         1048575 non-null object\n",
      "status           1048575 non-null object\n",
      "RATIO            1048575 non-null float64\n",
      "dtypes: float64(3), int64(1), object(4)\n",
      "memory usage: 72.0+ MB\n"
     ]
    }
   ],
   "source": [
    "orders4.info()"
   ]
  },
  {
   "cell_type": "markdown",
   "metadata": {},
   "source": [
    "# Drop un-necessary columns"
   ]
  },
  {
   "cell_type": "code",
   "execution_count": 49,
   "metadata": {
    "collapsed": true
   },
   "outputs": [],
   "source": [
    "orders4.drop(orders4.columns[[2]], axis=1, inplace=True)"
   ]
  },
  {
   "cell_type": "markdown",
   "metadata": {},
   "source": [
    "# Convert date from string into datestamp"
   ]
  },
  {
   "cell_type": "code",
   "execution_count": 50,
   "metadata": {
    "collapsed": false
   },
   "outputs": [],
   "source": [
    "orders4['creation_date'] = pd.to_datetime(orders4['creation_date'])"
   ]
  },
  {
   "cell_type": "code",
   "execution_count": 51,
   "metadata": {
    "collapsed": false
   },
   "outputs": [
    {
     "name": "stdout",
     "output_type": "stream",
     "text": [
      "<class 'pandas.core.frame.DataFrame'>\n",
      "Int64Index: 1048575 entries, 0 to 1048574\n",
      "Data columns (total 7 columns):\n",
      "creation_date    1048575 non-null datetime64[ns]\n",
      "method           1048553 non-null object\n",
      "sent_price       1048568 non-null float64\n",
      "sent_vat         1048568 non-null float64\n",
      "sent_ccy         1048575 non-null object\n",
      "status           1048575 non-null object\n",
      "RATIO            1048575 non-null float64\n",
      "dtypes: datetime64[ns](1), float64(3), object(3)\n",
      "memory usage: 64.0+ MB\n"
     ]
    }
   ],
   "source": [
    "orders4.info()"
   ]
  },
  {
   "cell_type": "code",
   "execution_count": 52,
   "metadata": {
    "collapsed": false
   },
   "outputs": [
    {
     "data": {
      "text/html": [
       "<div>\n",
       "<table border=\"1\" class=\"dataframe\">\n",
       "  <thead>\n",
       "    <tr style=\"text-align: right;\">\n",
       "      <th></th>\n",
       "      <th>creation_date</th>\n",
       "      <th>method</th>\n",
       "      <th>sent_price</th>\n",
       "      <th>sent_vat</th>\n",
       "      <th>sent_ccy</th>\n",
       "      <th>status</th>\n",
       "      <th>RATIO</th>\n",
       "    </tr>\n",
       "  </thead>\n",
       "  <tbody>\n",
       "    <tr>\n",
       "      <th>0</th>\n",
       "      <td>2013-04-03 14:12:25.013448</td>\n",
       "      <td>VISA</td>\n",
       "      <td>7.798791</td>\n",
       "      <td>1.169819</td>\n",
       "      <td>EUR</td>\n",
       "      <td>DELIVERED</td>\n",
       "      <td>0.779879</td>\n",
       "    </tr>\n",
       "    <tr>\n",
       "      <th>1</th>\n",
       "      <td>2013-03-30 19:58:50.219921</td>\n",
       "      <td>VISA</td>\n",
       "      <td>10.000000</td>\n",
       "      <td>0.000000</td>\n",
       "      <td>USD</td>\n",
       "      <td>SENT_TO_PSP</td>\n",
       "      <td>1.000000</td>\n",
       "    </tr>\n",
       "    <tr>\n",
       "      <th>2</th>\n",
       "      <td>2013-03-25 15:44:08.454227</td>\n",
       "      <td>VISA</td>\n",
       "      <td>6.576568</td>\n",
       "      <td>0.986485</td>\n",
       "      <td>GBP</td>\n",
       "      <td>DELIVERED</td>\n",
       "      <td>0.657657</td>\n",
       "    </tr>\n",
       "    <tr>\n",
       "      <th>3</th>\n",
       "      <td>2013-03-25 13:57:38.566480</td>\n",
       "      <td>VISA</td>\n",
       "      <td>554.226542</td>\n",
       "      <td>83.133981</td>\n",
       "      <td>SEK</td>\n",
       "      <td>DELIVERED</td>\n",
       "      <td>6.524150</td>\n",
       "    </tr>\n",
       "    <tr>\n",
       "      <th>4</th>\n",
       "      <td>2013-03-31 08:58:33.625369</td>\n",
       "      <td>ECMC</td>\n",
       "      <td>7.798791</td>\n",
       "      <td>0.000000</td>\n",
       "      <td>EUR</td>\n",
       "      <td>DELIVERED</td>\n",
       "      <td>0.779879</td>\n",
       "    </tr>\n",
       "  </tbody>\n",
       "</table>\n",
       "</div>"
      ],
      "text/plain": [
       "               creation_date method  sent_price   sent_vat sent_ccy  \\\n",
       "0 2013-04-03 14:12:25.013448   VISA    7.798791   1.169819      EUR   \n",
       "1 2013-03-30 19:58:50.219921   VISA   10.000000   0.000000      USD   \n",
       "2 2013-03-25 15:44:08.454227   VISA    6.576568   0.986485      GBP   \n",
       "3 2013-03-25 13:57:38.566480   VISA  554.226542  83.133981      SEK   \n",
       "4 2013-03-31 08:58:33.625369   ECMC    7.798791   0.000000      EUR   \n",
       "\n",
       "        status     RATIO  \n",
       "0    DELIVERED  0.779879  \n",
       "1  SENT_TO_PSP  1.000000  \n",
       "2    DELIVERED  0.657657  \n",
       "3    DELIVERED  6.524150  \n",
       "4    DELIVERED  0.779879  "
      ]
     },
     "execution_count": 52,
     "metadata": {},
     "output_type": "execute_result"
    }
   ],
   "source": [
    "orders4.head()"
   ]
  },
  {
   "cell_type": "markdown",
   "metadata": {},
   "source": [
    "# Groupby Method"
   ]
  },
  {
   "cell_type": "code",
   "execution_count": 53,
   "metadata": {
    "collapsed": false
   },
   "outputs": [
    {
     "data": {
      "text/plain": [
       "method\n",
       "AMEX           14883\n",
       "CARTEBLEUE      2241\n",
       "CB              3785\n",
       "DINERS         17043\n",
       "ECMC          298269\n",
       "JCB             4326\n",
       "VISA          708006\n",
       "dtype: int64"
      ]
     },
     "execution_count": 53,
     "metadata": {},
     "output_type": "execute_result"
    }
   ],
   "source": [
    "orders4.groupby(['method']).size()"
   ]
  },
  {
   "cell_type": "markdown",
   "metadata": {},
   "source": [
    "# Groupby Status"
   ]
  },
  {
   "cell_type": "code",
   "execution_count": 55,
   "metadata": {
    "collapsed": false
   },
   "outputs": [
    {
     "data": {
      "text/plain": [
       "status\n",
       "CANCELLED                 20154\n",
       "CHARGED_BACK                 62\n",
       "CHARGE_BACK_INITITAED        36\n",
       "CREATED                     419\n",
       "DELIVERED                693822\n",
       "PAYMENT_PENDING              23\n",
       "PAYMENT_REFUSED          127644\n",
       "PSP_ERROR                  7751\n",
       "REFUNDED                    431\n",
       "REVERSED                   3123\n",
       "SENT_FOR_CANCEL              12\n",
       "SENT_FOR_REFUND              70\n",
       "SENT_FOR_REVERSE             46\n",
       "SENT_TO_PSP              194982\n",
       "dtype: int64"
      ]
     },
     "execution_count": 55,
     "metadata": {},
     "output_type": "execute_result"
    }
   ],
   "source": [
    "orders4.groupby(['status']).size()"
   ]
  },
  {
   "cell_type": "markdown",
   "metadata": {
    "collapsed": true
   },
   "source": [
    "17.April 2015 --Jiahong Wang"
   ]
  },
  {
   "cell_type": "code",
   "execution_count": null,
   "metadata": {
    "collapsed": true
   },
   "outputs": [],
   "source": []
  },
  {
   "cell_type": "code",
   "execution_count": null,
   "metadata": {
    "collapsed": true
   },
   "outputs": [],
   "source": []
  },
  {
   "cell_type": "code",
   "execution_count": null,
   "metadata": {
    "collapsed": true
   },
   "outputs": [],
   "source": []
  }
 ],
 "metadata": {
  "kernelspec": {
   "display_name": "Python 2",
   "language": "python",
   "name": "python2"
  },
  "language_info": {
   "codemirror_mode": {
    "name": "ipython",
    "version": 2
   },
   "file_extension": ".py",
   "mimetype": "text/x-python",
   "name": "python",
   "nbconvert_exporter": "python",
   "pygments_lexer": "ipython2",
   "version": "2.7.11"
  }
 },
 "nbformat": 4,
 "nbformat_minor": 0
}
