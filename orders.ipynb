{
 "cells": [
  {
   "cell_type": "code",
   "execution_count": 1,
   "metadata": {
    "collapsed": false
   },
   "outputs": [
    {
     "ename": "ImportError",
     "evalue": "No module named pyodbc",
     "output_type": "error",
     "traceback": [
      "\u001b[1;31m---------------------------------------------------------------------------\u001b[0m",
      "\u001b[1;31mImportError\u001b[0m                               Traceback (most recent call last)",
      "\u001b[1;32m<ipython-input-1-dbc27c5f2947>\u001b[0m in \u001b[0;36m<module>\u001b[1;34m()\u001b[0m\n\u001b[1;32m----> 1\u001b[1;33m \u001b[1;32mimport\u001b[0m \u001b[0mpyodbc\u001b[0m\u001b[1;33m\u001b[0m\u001b[0m\n\u001b[0m",
      "\u001b[1;31mImportError\u001b[0m: No module named pyodbc"
     ]
    }
   ],
   "source": [
    "import pyodbc"
   ]
  },
  {
   "cell_type": "code",
   "execution_count": null,
   "metadata": {
    "collapsed": true
   },
   "outputs": [],
   "source": [
    "connSqlServer = pyodbc.connect(\n",
    "    'DRIVER={SQL Server Native Client 10.0};\n",
    "    SERVER=127.0.0.1;DATABASE=master;INSTANCE=instance1;UID=root;PWD=zs152534;Trusted_Connection=yes')\n",
    "\n"
   ]
  },
  {
   "cell_type": "code",
   "execution_count": null,
   "metadata": {
    "collapsed": true
   },
   "outputs": [],
   "source": [
    "cursorObj.execute(\"select * from sys.dm_os_sys_info\")\n",
    "row = cursorObj.fetchone()\n",
    "print(\"rows from table \",row) "
   ]
  },
  {
   "cell_type": "code",
   "execution_count": null,
   "metadata": {
    "collapsed": true
   },
   "outputs": [],
   "source": []
  },
  {
   "cell_type": "code",
   "execution_count": 6,
   "metadata": {
    "collapsed": true
   },
   "outputs": [],
   "source": [
    "%matplotlib inline \n",
    "import numpy as np\n",
    "import pandas as pd\n",
    "import scipy.stats as stats\n",
    "import matplotlib.pyplot as plt\n",
    "import sklearn\n",
    "import statsmodels.api as sm\n",
    "# special matplotlib argument for improved plots\n",
    "from matplotlib import rcParams"
   ]
  },
  {
   "cell_type": "code",
   "execution_count": 9,
   "metadata": {
    "collapsed": false
   },
   "outputs": [],
   "source": [
    "df =pd.ExcelFile('C:/Users/AlexMerhoom/Desktop/orders.xlsx')\n"
   ]
  },
  {
   "cell_type": "code",
   "execution_count": 10,
   "metadata": {
    "collapsed": true
   },
   "outputs": [],
   "source": [
    "orders  = df.parse(0)"
   ]
  },
  {
   "cell_type": "code",
   "execution_count": 11,
   "metadata": {
    "collapsed": false
   },
   "outputs": [
    {
     "data": {
      "text/html": [
       "<div>\n",
       "<table border=\"1\" class=\"dataframe\">\n",
       "  <thead>\n",
       "    <tr style=\"text-align: right;\">\n",
       "      <th></th>\n",
       "      <th>id_order</th>\n",
       "      <th>creation_date</th>\n",
       "      <th>method</th>\n",
       "      <th>key_status</th>\n",
       "      <th>sent_price</th>\n",
       "      <th>sent_vat</th>\n",
       "      <th>sent_ccy</th>\n",
       "    </tr>\n",
       "  </thead>\n",
       "  <tbody>\n",
       "    <tr>\n",
       "      <th>0</th>\n",
       "      <td>00029e4f4cd704f71a9e0046a932dcdf</td>\n",
       "      <td>2013-04-03 14:12:25.013448+00</td>\n",
       "      <td>VISA</td>\n",
       "      <td>5</td>\n",
       "      <td>10.00</td>\n",
       "      <td>1.5000</td>\n",
       "      <td>EUR</td>\n",
       "    </tr>\n",
       "    <tr>\n",
       "      <th>1</th>\n",
       "      <td>000416c0fccfacd10280316a2ec8ef4a</td>\n",
       "      <td>2013-03-30 19:58:50.219921+00</td>\n",
       "      <td>VISA</td>\n",
       "      <td>2</td>\n",
       "      <td>10.00</td>\n",
       "      <td>0.0000</td>\n",
       "      <td>USD</td>\n",
       "    </tr>\n",
       "    <tr>\n",
       "      <th>2</th>\n",
       "      <td>0007e18993ba0df75829622f563d3112</td>\n",
       "      <td>2013-03-25 15:44:08.454227+00</td>\n",
       "      <td>VISA</td>\n",
       "      <td>5</td>\n",
       "      <td>10.00</td>\n",
       "      <td>1.5000</td>\n",
       "      <td>GBP</td>\n",
       "    </tr>\n",
       "    <tr>\n",
       "      <th>3</th>\n",
       "      <td>000170ffd2097c9937d265ef44aafa02</td>\n",
       "      <td>2013-03-25 13:57:38.56648+00</td>\n",
       "      <td>VISA</td>\n",
       "      <td>5</td>\n",
       "      <td>84.95</td>\n",
       "      <td>12.7425</td>\n",
       "      <td>SEK</td>\n",
       "    </tr>\n",
       "    <tr>\n",
       "      <th>4</th>\n",
       "      <td>0000a716ebd303aa3fd7c05077df6403</td>\n",
       "      <td>2013-03-31 08:58:33.625369+00</td>\n",
       "      <td>ECMC</td>\n",
       "      <td>5</td>\n",
       "      <td>10.00</td>\n",
       "      <td>0.0000</td>\n",
       "      <td>EUR</td>\n",
       "    </tr>\n",
       "  </tbody>\n",
       "</table>\n",
       "</div>"
      ],
      "text/plain": [
       "                           id_order                  creation_date method  \\\n",
       "0  00029e4f4cd704f71a9e0046a932dcdf  2013-04-03 14:12:25.013448+00   VISA   \n",
       "1  000416c0fccfacd10280316a2ec8ef4a  2013-03-30 19:58:50.219921+00   VISA   \n",
       "2  0007e18993ba0df75829622f563d3112  2013-03-25 15:44:08.454227+00   VISA   \n",
       "3  000170ffd2097c9937d265ef44aafa02   2013-03-25 13:57:38.56648+00   VISA   \n",
       "4  0000a716ebd303aa3fd7c05077df6403  2013-03-31 08:58:33.625369+00   ECMC   \n",
       "\n",
       "   key_status  sent_price  sent_vat sent_ccy  \n",
       "0           5       10.00    1.5000      EUR  \n",
       "1           2       10.00    0.0000      USD  \n",
       "2           5       10.00    1.5000      GBP  \n",
       "3           5       84.95   12.7425      SEK  \n",
       "4           5       10.00    0.0000      EUR  "
      ]
     },
     "execution_count": 11,
     "metadata": {},
     "output_type": "execute_result"
    }
   ],
   "source": [
    "orders.head()"
   ]
  },
  {
   "cell_type": "code",
   "execution_count": 12,
   "metadata": {
    "collapsed": false
   },
   "outputs": [
    {
     "name": "stdout",
     "output_type": "stream",
     "text": [
      "<class 'pandas.core.frame.DataFrame'>\n",
      "Int64Index: 1048575 entries, 0 to 1048574\n",
      "Data columns (total 7 columns):\n",
      "id_order         1048575 non-null object\n",
      "creation_date    1048575 non-null object\n",
      "method           1048553 non-null object\n",
      "key_status       1048575 non-null int64\n",
      "sent_price       1048568 non-null float64\n",
      "sent_vat         1048568 non-null float64\n",
      "sent_ccy         1048575 non-null object\n",
      "dtypes: float64(2), int64(1), object(4)\n",
      "memory usage: 64.0+ MB\n"
     ]
    }
   ],
   "source": [
    "orders.info()"
   ]
  },
  {
   "cell_type": "code",
   "execution_count": null,
   "metadata": {
    "collapsed": true
   },
   "outputs": [],
   "source": []
  }
 ],
 "metadata": {
  "kernelspec": {
   "display_name": "Python 2",
   "language": "python",
   "name": "python2"
  },
  "language_info": {
   "codemirror_mode": {
    "name": "ipython",
    "version": 2
   },
   "file_extension": ".py",
   "mimetype": "text/x-python",
   "name": "python",
   "nbconvert_exporter": "python",
   "pygments_lexer": "ipython2",
   "version": "2.7.11"
  }
 },
 "nbformat": 4,
 "nbformat_minor": 0
}
